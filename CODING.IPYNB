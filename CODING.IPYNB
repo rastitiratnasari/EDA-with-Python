{
 "cells": [
  {
   "cell_type": "code",
   "execution_count": 32,
   "metadata": {},
   "outputs": [],
   "source": [
    "import pandas as pd\n",
    "\n",
    "import matplotlib.pyplot as plt\n",
    "\n",
    "pd.set_option('display.float_format', '{:,.3f}'.format)\n",
    "\n",
    "Balaji = pd.read_csv('Data_input\\Balaji Fast Food Sales.csv',index_col=0)"
   ]
  },
  {
   "cell_type": "code",
   "execution_count": 33,
   "metadata": {},
   "outputs": [
    {
     "name": "stdout",
     "output_type": "stream",
     "text": [
      "<class 'pandas.core.frame.DataFrame'>\n",
      "Index: 1000 entries, 1 to 1000\n",
      "Data columns (total 9 columns):\n",
      " #   Column              Non-Null Count  Dtype \n",
      "---  ------              --------------  ----- \n",
      " 0   date                1000 non-null   object\n",
      " 1   item_name           1000 non-null   object\n",
      " 2   item_type           1000 non-null   object\n",
      " 3   item_price          1000 non-null   int64 \n",
      " 4   quantity            1000 non-null   int64 \n",
      " 5   transaction_amount  1000 non-null   int64 \n",
      " 6   transaction_type    893 non-null    object\n",
      " 7   received_by         1000 non-null   object\n",
      " 8   time_of_sale        1000 non-null   object\n",
      "dtypes: int64(3), object(6)\n",
      "memory usage: 78.1+ KB\n"
     ]
    }
   ],
   "source": [
    "Balaji.info()"
   ]
  },
  {
   "cell_type": "code",
   "execution_count": 35,
   "metadata": {},
   "outputs": [
    {
     "data": {
      "text/plain": [
       "date                    0\n",
       "item_name               0\n",
       "item_type               0\n",
       "item_price              0\n",
       "quantity                0\n",
       "transaction_amount      0\n",
       "transaction_type      107\n",
       "received_by             0\n",
       "time_of_sale            0\n",
       "dtype: int64"
      ]
     },
     "execution_count": 35,
     "metadata": {},
     "output_type": "execute_result"
    }
   ],
   "source": [
    "Balaji.isna().sum()"
   ]
  },
  {
   "cell_type": "code",
   "execution_count": 36,
   "metadata": {},
   "outputs": [
    {
     "data": {
      "text/html": [
       "<div>\n",
       "<style scoped>\n",
       "    .dataframe tbody tr th:only-of-type {\n",
       "        vertical-align: middle;\n",
       "    }\n",
       "\n",
       "    .dataframe tbody tr th {\n",
       "        vertical-align: top;\n",
       "    }\n",
       "\n",
       "    .dataframe thead th {\n",
       "        text-align: right;\n",
       "    }\n",
       "</style>\n",
       "<table border=\"1\" class=\"dataframe\">\n",
       "  <thead>\n",
       "    <tr style=\"text-align: right;\">\n",
       "      <th></th>\n",
       "      <th>date</th>\n",
       "      <th>item_name</th>\n",
       "      <th>item_type</th>\n",
       "      <th>item_price</th>\n",
       "      <th>quantity</th>\n",
       "      <th>transaction_amount</th>\n",
       "      <th>transaction_type</th>\n",
       "      <th>received_by</th>\n",
       "      <th>time_of_sale</th>\n",
       "    </tr>\n",
       "    <tr>\n",
       "      <th>order_id</th>\n",
       "      <th></th>\n",
       "      <th></th>\n",
       "      <th></th>\n",
       "      <th></th>\n",
       "      <th></th>\n",
       "      <th></th>\n",
       "      <th></th>\n",
       "      <th></th>\n",
       "      <th></th>\n",
       "    </tr>\n",
       "  </thead>\n",
       "  <tbody>\n",
       "    <tr>\n",
       "      <th>1</th>\n",
       "      <td>07-03-2022</td>\n",
       "      <td>Aalopuri</td>\n",
       "      <td>Fastfood</td>\n",
       "      <td>20</td>\n",
       "      <td>13</td>\n",
       "      <td>260</td>\n",
       "      <td>NaN</td>\n",
       "      <td>Mr.</td>\n",
       "      <td>Night</td>\n",
       "    </tr>\n",
       "    <tr>\n",
       "      <th>16</th>\n",
       "      <td>4/14/2022</td>\n",
       "      <td>Sandwich</td>\n",
       "      <td>Fastfood</td>\n",
       "      <td>60</td>\n",
       "      <td>11</td>\n",
       "      <td>660</td>\n",
       "      <td>NaN</td>\n",
       "      <td>Mrs.</td>\n",
       "      <td>Midnight</td>\n",
       "    </tr>\n",
       "    <tr>\n",
       "      <th>32</th>\n",
       "      <td>05-06-2022</td>\n",
       "      <td>Aalopuri</td>\n",
       "      <td>Fastfood</td>\n",
       "      <td>20</td>\n",
       "      <td>4</td>\n",
       "      <td>80</td>\n",
       "      <td>NaN</td>\n",
       "      <td>Mr.</td>\n",
       "      <td>Morning</td>\n",
       "    </tr>\n",
       "    <tr>\n",
       "      <th>41</th>\n",
       "      <td>11/13/2022</td>\n",
       "      <td>Cold coffee</td>\n",
       "      <td>Beverages</td>\n",
       "      <td>40</td>\n",
       "      <td>11</td>\n",
       "      <td>440</td>\n",
       "      <td>NaN</td>\n",
       "      <td>Mr.</td>\n",
       "      <td>Afternoon</td>\n",
       "    </tr>\n",
       "    <tr>\n",
       "      <th>47</th>\n",
       "      <td>07-10-2022</td>\n",
       "      <td>Sandwich</td>\n",
       "      <td>Fastfood</td>\n",
       "      <td>60</td>\n",
       "      <td>7</td>\n",
       "      <td>420</td>\n",
       "      <td>NaN</td>\n",
       "      <td>Mr.</td>\n",
       "      <td>Morning</td>\n",
       "    </tr>\n",
       "    <tr>\n",
       "      <th>...</th>\n",
       "      <td>...</td>\n",
       "      <td>...</td>\n",
       "      <td>...</td>\n",
       "      <td>...</td>\n",
       "      <td>...</td>\n",
       "      <td>...</td>\n",
       "      <td>...</td>\n",
       "      <td>...</td>\n",
       "      <td>...</td>\n",
       "    </tr>\n",
       "    <tr>\n",
       "      <th>988</th>\n",
       "      <td>01-03-2023</td>\n",
       "      <td>Frankie</td>\n",
       "      <td>Fastfood</td>\n",
       "      <td>50</td>\n",
       "      <td>13</td>\n",
       "      <td>650</td>\n",
       "      <td>NaN</td>\n",
       "      <td>Mrs.</td>\n",
       "      <td>Night</td>\n",
       "    </tr>\n",
       "    <tr>\n",
       "      <th>996</th>\n",
       "      <td>3/19/2023</td>\n",
       "      <td>Frankie</td>\n",
       "      <td>Fastfood</td>\n",
       "      <td>50</td>\n",
       "      <td>10</td>\n",
       "      <td>500</td>\n",
       "      <td>NaN</td>\n",
       "      <td>Mrs.</td>\n",
       "      <td>Evening</td>\n",
       "    </tr>\n",
       "    <tr>\n",
       "      <th>997</th>\n",
       "      <td>9/20/2022</td>\n",
       "      <td>Sandwich</td>\n",
       "      <td>Fastfood</td>\n",
       "      <td>60</td>\n",
       "      <td>7</td>\n",
       "      <td>420</td>\n",
       "      <td>NaN</td>\n",
       "      <td>Mr.</td>\n",
       "      <td>Evening</td>\n",
       "    </tr>\n",
       "    <tr>\n",
       "      <th>998</th>\n",
       "      <td>1/26/2023</td>\n",
       "      <td>Sandwich</td>\n",
       "      <td>Fastfood</td>\n",
       "      <td>60</td>\n",
       "      <td>13</td>\n",
       "      <td>780</td>\n",
       "      <td>NaN</td>\n",
       "      <td>Mr.</td>\n",
       "      <td>Evening</td>\n",
       "    </tr>\n",
       "    <tr>\n",
       "      <th>999</th>\n",
       "      <td>8/27/2022</td>\n",
       "      <td>Panipuri</td>\n",
       "      <td>Fastfood</td>\n",
       "      <td>20</td>\n",
       "      <td>5</td>\n",
       "      <td>100</td>\n",
       "      <td>NaN</td>\n",
       "      <td>Mrs.</td>\n",
       "      <td>Afternoon</td>\n",
       "    </tr>\n",
       "  </tbody>\n",
       "</table>\n",
       "<p>107 rows × 9 columns</p>\n",
       "</div>"
      ],
      "text/plain": [
       "                date    item_name  item_type  item_price  quantity   \n",
       "order_id                                                             \n",
       "1         07-03-2022     Aalopuri   Fastfood          20        13  \\\n",
       "16         4/14/2022     Sandwich   Fastfood          60        11   \n",
       "32        05-06-2022     Aalopuri   Fastfood          20         4   \n",
       "41        11/13/2022  Cold coffee  Beverages          40        11   \n",
       "47        07-10-2022     Sandwich   Fastfood          60         7   \n",
       "...              ...          ...        ...         ...       ...   \n",
       "988       01-03-2023      Frankie   Fastfood          50        13   \n",
       "996        3/19/2023      Frankie   Fastfood          50        10   \n",
       "997        9/20/2022     Sandwich   Fastfood          60         7   \n",
       "998        1/26/2023     Sandwich   Fastfood          60        13   \n",
       "999        8/27/2022     Panipuri   Fastfood          20         5   \n",
       "\n",
       "          transaction_amount transaction_type received_by time_of_sale  \n",
       "order_id                                                                \n",
       "1                        260              NaN         Mr.        Night  \n",
       "16                       660              NaN        Mrs.     Midnight  \n",
       "32                        80              NaN         Mr.      Morning  \n",
       "41                       440              NaN         Mr.    Afternoon  \n",
       "47                       420              NaN         Mr.      Morning  \n",
       "...                      ...              ...         ...          ...  \n",
       "988                      650              NaN        Mrs.        Night  \n",
       "996                      500              NaN        Mrs.      Evening  \n",
       "997                      420              NaN         Mr.      Evening  \n",
       "998                      780              NaN         Mr.      Evening  \n",
       "999                      100              NaN        Mrs.    Afternoon  \n",
       "\n",
       "[107 rows x 9 columns]"
      ]
     },
     "execution_count": 36,
     "metadata": {},
     "output_type": "execute_result"
    }
   ],
   "source": [
    "Balaji.isna().any(axis=1)\n",
    "Balaji[Balaji.isna().any(axis=1)]"
   ]
  },
  {
   "cell_type": "code",
   "execution_count": 37,
   "metadata": {},
   "outputs": [
    {
     "data": {
      "text/plain": [
       "0"
      ]
     },
     "execution_count": 37,
     "metadata": {},
     "output_type": "execute_result"
    }
   ],
   "source": [
    "Balaji.duplicated().sum()"
   ]
  },
  {
   "cell_type": "code",
   "execution_count": 38,
   "metadata": {},
   "outputs": [
    {
     "data": {
      "text/plain": [
       "array(['Fastfood', 'Beverages'], dtype=object)"
      ]
     },
     "execution_count": 38,
     "metadata": {},
     "output_type": "execute_result"
    }
   ],
   "source": [
    "Balaji['item_type'].unique()"
   ]
  },
  {
   "cell_type": "code",
   "execution_count": 58,
   "metadata": {},
   "outputs": [
    {
     "data": {
      "text/plain": [
       "date                  datetime64[ns]\n",
       "item_name                     object\n",
       "item_type                   category\n",
       "item_price                     int64\n",
       "quantity                       int64\n",
       "transaction_amount             int64\n",
       "transaction_type            category\n",
       "received_by                   object\n",
       "time_of_sale                  object\n",
       "yearmonth                  period[M]\n",
       "dtype: object"
      ]
     },
     "execution_count": 58,
     "metadata": {},
     "output_type": "execute_result"
    }
   ],
   "source": [
    "Balaji['item_type'] = Balaji['item_type'].astype('category')\n",
    "Balaji.dtypes"
   ]
  },
  {
   "cell_type": "code",
   "execution_count": 40,
   "metadata": {},
   "outputs": [
    {
     "data": {
      "text/plain": [
       "[NaN, 'Cash', 'Online']\n",
       "Categories (2, object): ['Cash', 'Online']"
      ]
     },
     "execution_count": 40,
     "metadata": {},
     "output_type": "execute_result"
    }
   ],
   "source": [
    "Balaji['transaction_type'].unique()"
   ]
  },
  {
   "cell_type": "code",
   "execution_count": 41,
   "metadata": {},
   "outputs": [
    {
     "data": {
      "text/plain": [
       "date                    object\n",
       "item_name               object\n",
       "item_type             category\n",
       "item_price               int64\n",
       "quantity                 int64\n",
       "transaction_amount       int64\n",
       "transaction_type      category\n",
       "received_by             object\n",
       "time_of_sale            object\n",
       "dtype: object"
      ]
     },
     "execution_count": 41,
     "metadata": {},
     "output_type": "execute_result"
    }
   ],
   "source": [
    "Balaji_d = Balaji.copy()\n",
    "Balaji_d.dtypes"
   ]
  },
  {
   "cell_type": "code",
   "execution_count": 42,
   "metadata": {},
   "outputs": [
    {
     "data": {
      "text/plain": [
       "date                    object\n",
       "item_name               object\n",
       "item_type             category\n",
       "item_price               int64\n",
       "quantity                 int64\n",
       "transaction_amount       int64\n",
       "transaction_type        object\n",
       "received_by             object\n",
       "time_of_sale            object\n",
       "dtype: object"
      ]
     },
     "execution_count": 42,
     "metadata": {},
     "output_type": "execute_result"
    }
   ],
   "source": [
    "Balaji['transaction_type'] = Balaji['transaction_type'].astype('object')\n",
    "Balaji.dtypes"
   ]
  },
  {
   "cell_type": "code",
   "execution_count": 43,
   "metadata": {},
   "outputs": [
    {
     "data": {
      "text/html": [
       "<div>\n",
       "<style scoped>\n",
       "    .dataframe tbody tr th:only-of-type {\n",
       "        vertical-align: middle;\n",
       "    }\n",
       "\n",
       "    .dataframe tbody tr th {\n",
       "        vertical-align: top;\n",
       "    }\n",
       "\n",
       "    .dataframe thead th {\n",
       "        text-align: right;\n",
       "    }\n",
       "</style>\n",
       "<table border=\"1\" class=\"dataframe\">\n",
       "  <thead>\n",
       "    <tr style=\"text-align: right;\">\n",
       "      <th></th>\n",
       "      <th>date</th>\n",
       "      <th>item_name</th>\n",
       "      <th>item_type</th>\n",
       "      <th>item_price</th>\n",
       "      <th>quantity</th>\n",
       "      <th>transaction_amount</th>\n",
       "      <th>transaction_type</th>\n",
       "      <th>received_by</th>\n",
       "      <th>time_of_sale</th>\n",
       "    </tr>\n",
       "    <tr>\n",
       "      <th>order_id</th>\n",
       "      <th></th>\n",
       "      <th></th>\n",
       "      <th></th>\n",
       "      <th></th>\n",
       "      <th></th>\n",
       "      <th></th>\n",
       "      <th></th>\n",
       "      <th></th>\n",
       "      <th></th>\n",
       "    </tr>\n",
       "  </thead>\n",
       "  <tbody>\n",
       "    <tr>\n",
       "      <th>1</th>\n",
       "      <td>07-03-2022</td>\n",
       "      <td>Aalopuri</td>\n",
       "      <td>Fastfood</td>\n",
       "      <td>20</td>\n",
       "      <td>13</td>\n",
       "      <td>260</td>\n",
       "      <td>unknown</td>\n",
       "      <td>Mr.</td>\n",
       "      <td>Night</td>\n",
       "    </tr>\n",
       "    <tr>\n",
       "      <th>2</th>\n",
       "      <td>8/23/2022</td>\n",
       "      <td>Vadapav</td>\n",
       "      <td>Fastfood</td>\n",
       "      <td>20</td>\n",
       "      <td>15</td>\n",
       "      <td>300</td>\n",
       "      <td>Cash</td>\n",
       "      <td>Mr.</td>\n",
       "      <td>Afternoon</td>\n",
       "    </tr>\n",
       "    <tr>\n",
       "      <th>3</th>\n",
       "      <td>11/20/2022</td>\n",
       "      <td>Vadapav</td>\n",
       "      <td>Fastfood</td>\n",
       "      <td>20</td>\n",
       "      <td>1</td>\n",
       "      <td>20</td>\n",
       "      <td>Cash</td>\n",
       "      <td>Mr.</td>\n",
       "      <td>Afternoon</td>\n",
       "    </tr>\n",
       "    <tr>\n",
       "      <th>4</th>\n",
       "      <td>02-03-2023</td>\n",
       "      <td>Sugarcane juice</td>\n",
       "      <td>Beverages</td>\n",
       "      <td>25</td>\n",
       "      <td>6</td>\n",
       "      <td>150</td>\n",
       "      <td>Online</td>\n",
       "      <td>Mr.</td>\n",
       "      <td>Night</td>\n",
       "    </tr>\n",
       "    <tr>\n",
       "      <th>5</th>\n",
       "      <td>10-02-2022</td>\n",
       "      <td>Sugarcane juice</td>\n",
       "      <td>Beverages</td>\n",
       "      <td>25</td>\n",
       "      <td>8</td>\n",
       "      <td>200</td>\n",
       "      <td>Online</td>\n",
       "      <td>Mr.</td>\n",
       "      <td>Evening</td>\n",
       "    </tr>\n",
       "  </tbody>\n",
       "</table>\n",
       "</div>"
      ],
      "text/plain": [
       "                date        item_name  item_type  item_price  quantity   \n",
       "order_id                                                                 \n",
       "1         07-03-2022         Aalopuri   Fastfood          20        13  \\\n",
       "2          8/23/2022          Vadapav   Fastfood          20        15   \n",
       "3         11/20/2022          Vadapav   Fastfood          20         1   \n",
       "4         02-03-2023  Sugarcane juice  Beverages          25         6   \n",
       "5         10-02-2022  Sugarcane juice  Beverages          25         8   \n",
       "\n",
       "          transaction_amount transaction_type received_by time_of_sale  \n",
       "order_id                                                                \n",
       "1                        260          unknown         Mr.        Night  \n",
       "2                        300             Cash         Mr.    Afternoon  \n",
       "3                         20             Cash         Mr.    Afternoon  \n",
       "4                        150           Online         Mr.        Night  \n",
       "5                        200           Online         Mr.      Evening  "
      ]
     },
     "execution_count": 43,
     "metadata": {},
     "output_type": "execute_result"
    }
   ],
   "source": [
    "Balaji['transaction_type'] = Balaji['transaction_type'].fillna('unknown')\n",
    "Balaji.head()"
   ]
  },
  {
   "cell_type": "code",
   "execution_count": 44,
   "metadata": {},
   "outputs": [
    {
     "data": {
      "text/plain": [
       "date                    object\n",
       "item_name               object\n",
       "item_type             category\n",
       "item_price               int64\n",
       "quantity                 int64\n",
       "transaction_amount       int64\n",
       "transaction_type      category\n",
       "received_by             object\n",
       "time_of_sale            object\n",
       "dtype: object"
      ]
     },
     "execution_count": 44,
     "metadata": {},
     "output_type": "execute_result"
    }
   ],
   "source": [
    "Balaji['transaction_type'] = Balaji['transaction_type']. astype('category')\n",
    "Balaji.dtypes"
   ]
  },
  {
   "cell_type": "code",
   "execution_count": 45,
   "metadata": {},
   "outputs": [
    {
     "data": {
      "text/plain": [
       "['unknown', 'Cash', 'Online']\n",
       "Categories (3, object): ['Cash', 'Online', 'unknown']"
      ]
     },
     "execution_count": 45,
     "metadata": {},
     "output_type": "execute_result"
    }
   ],
   "source": [
    "Balaji['transaction_type'].unique()"
   ]
  },
  {
   "cell_type": "code",
   "execution_count": 46,
   "metadata": {},
   "outputs": [
    {
     "data": {
      "text/plain": [
       "date                  datetime64[ns]\n",
       "item_name                     object\n",
       "item_type                   category\n",
       "item_price                     int64\n",
       "quantity                       int64\n",
       "transaction_amount             int64\n",
       "transaction_type            category\n",
       "received_by                   object\n",
       "time_of_sale                  object\n",
       "dtype: object"
      ]
     },
     "execution_count": 46,
     "metadata": {},
     "output_type": "execute_result"
    }
   ],
   "source": [
    "Balaji['date']= pd.to_datetime(Balaji['date'],format='mixed')\n",
    "Balaji.dtypes\n"
   ]
  },
  {
   "cell_type": "code",
   "execution_count": 47,
   "metadata": {},
   "outputs": [
    {
     "data": {
      "text/html": [
       "<div>\n",
       "<style scoped>\n",
       "    .dataframe tbody tr th:only-of-type {\n",
       "        vertical-align: middle;\n",
       "    }\n",
       "\n",
       "    .dataframe tbody tr th {\n",
       "        vertical-align: top;\n",
       "    }\n",
       "\n",
       "    .dataframe thead th {\n",
       "        text-align: right;\n",
       "    }\n",
       "</style>\n",
       "<table border=\"1\" class=\"dataframe\">\n",
       "  <thead>\n",
       "    <tr style=\"text-align: right;\">\n",
       "      <th></th>\n",
       "      <th>date</th>\n",
       "      <th>item_name</th>\n",
       "      <th>item_type</th>\n",
       "      <th>item_price</th>\n",
       "      <th>quantity</th>\n",
       "      <th>transaction_amount</th>\n",
       "      <th>transaction_type</th>\n",
       "      <th>received_by</th>\n",
       "      <th>time_of_sale</th>\n",
       "      <th>yearmonth</th>\n",
       "    </tr>\n",
       "    <tr>\n",
       "      <th>order_id</th>\n",
       "      <th></th>\n",
       "      <th></th>\n",
       "      <th></th>\n",
       "      <th></th>\n",
       "      <th></th>\n",
       "      <th></th>\n",
       "      <th></th>\n",
       "      <th></th>\n",
       "      <th></th>\n",
       "      <th></th>\n",
       "    </tr>\n",
       "  </thead>\n",
       "  <tbody>\n",
       "    <tr>\n",
       "      <th>1</th>\n",
       "      <td>2022-07-03</td>\n",
       "      <td>Aalopuri</td>\n",
       "      <td>Fastfood</td>\n",
       "      <td>20</td>\n",
       "      <td>13</td>\n",
       "      <td>260</td>\n",
       "      <td>unknown</td>\n",
       "      <td>Mr.</td>\n",
       "      <td>Night</td>\n",
       "      <td>2022-07</td>\n",
       "    </tr>\n",
       "    <tr>\n",
       "      <th>2</th>\n",
       "      <td>2022-08-23</td>\n",
       "      <td>Vadapav</td>\n",
       "      <td>Fastfood</td>\n",
       "      <td>20</td>\n",
       "      <td>15</td>\n",
       "      <td>300</td>\n",
       "      <td>Cash</td>\n",
       "      <td>Mr.</td>\n",
       "      <td>Afternoon</td>\n",
       "      <td>2022-08</td>\n",
       "    </tr>\n",
       "    <tr>\n",
       "      <th>3</th>\n",
       "      <td>2022-11-20</td>\n",
       "      <td>Vadapav</td>\n",
       "      <td>Fastfood</td>\n",
       "      <td>20</td>\n",
       "      <td>1</td>\n",
       "      <td>20</td>\n",
       "      <td>Cash</td>\n",
       "      <td>Mr.</td>\n",
       "      <td>Afternoon</td>\n",
       "      <td>2022-11</td>\n",
       "    </tr>\n",
       "    <tr>\n",
       "      <th>4</th>\n",
       "      <td>2023-02-03</td>\n",
       "      <td>Sugarcane juice</td>\n",
       "      <td>Beverages</td>\n",
       "      <td>25</td>\n",
       "      <td>6</td>\n",
       "      <td>150</td>\n",
       "      <td>Online</td>\n",
       "      <td>Mr.</td>\n",
       "      <td>Night</td>\n",
       "      <td>2023-02</td>\n",
       "    </tr>\n",
       "    <tr>\n",
       "      <th>5</th>\n",
       "      <td>2022-10-02</td>\n",
       "      <td>Sugarcane juice</td>\n",
       "      <td>Beverages</td>\n",
       "      <td>25</td>\n",
       "      <td>8</td>\n",
       "      <td>200</td>\n",
       "      <td>Online</td>\n",
       "      <td>Mr.</td>\n",
       "      <td>Evening</td>\n",
       "      <td>2022-10</td>\n",
       "    </tr>\n",
       "    <tr>\n",
       "      <th>...</th>\n",
       "      <td>...</td>\n",
       "      <td>...</td>\n",
       "      <td>...</td>\n",
       "      <td>...</td>\n",
       "      <td>...</td>\n",
       "      <td>...</td>\n",
       "      <td>...</td>\n",
       "      <td>...</td>\n",
       "      <td>...</td>\n",
       "      <td>...</td>\n",
       "    </tr>\n",
       "    <tr>\n",
       "      <th>996</th>\n",
       "      <td>2023-03-19</td>\n",
       "      <td>Frankie</td>\n",
       "      <td>Fastfood</td>\n",
       "      <td>50</td>\n",
       "      <td>10</td>\n",
       "      <td>500</td>\n",
       "      <td>unknown</td>\n",
       "      <td>Mrs.</td>\n",
       "      <td>Evening</td>\n",
       "      <td>2023-03</td>\n",
       "    </tr>\n",
       "    <tr>\n",
       "      <th>997</th>\n",
       "      <td>2022-09-20</td>\n",
       "      <td>Sandwich</td>\n",
       "      <td>Fastfood</td>\n",
       "      <td>60</td>\n",
       "      <td>7</td>\n",
       "      <td>420</td>\n",
       "      <td>unknown</td>\n",
       "      <td>Mr.</td>\n",
       "      <td>Evening</td>\n",
       "      <td>2022-09</td>\n",
       "    </tr>\n",
       "    <tr>\n",
       "      <th>998</th>\n",
       "      <td>2023-01-26</td>\n",
       "      <td>Sandwich</td>\n",
       "      <td>Fastfood</td>\n",
       "      <td>60</td>\n",
       "      <td>13</td>\n",
       "      <td>780</td>\n",
       "      <td>unknown</td>\n",
       "      <td>Mr.</td>\n",
       "      <td>Evening</td>\n",
       "      <td>2023-01</td>\n",
       "    </tr>\n",
       "    <tr>\n",
       "      <th>999</th>\n",
       "      <td>2022-08-27</td>\n",
       "      <td>Panipuri</td>\n",
       "      <td>Fastfood</td>\n",
       "      <td>20</td>\n",
       "      <td>5</td>\n",
       "      <td>100</td>\n",
       "      <td>unknown</td>\n",
       "      <td>Mrs.</td>\n",
       "      <td>Afternoon</td>\n",
       "      <td>2022-08</td>\n",
       "    </tr>\n",
       "    <tr>\n",
       "      <th>1000</th>\n",
       "      <td>2022-05-29</td>\n",
       "      <td>Aalopuri</td>\n",
       "      <td>Fastfood</td>\n",
       "      <td>20</td>\n",
       "      <td>3</td>\n",
       "      <td>60</td>\n",
       "      <td>Online</td>\n",
       "      <td>Mrs.</td>\n",
       "      <td>Midnight</td>\n",
       "      <td>2022-05</td>\n",
       "    </tr>\n",
       "  </tbody>\n",
       "</table>\n",
       "<p>1000 rows × 10 columns</p>\n",
       "</div>"
      ],
      "text/plain": [
       "               date        item_name  item_type  item_price  quantity   \n",
       "order_id                                                                \n",
       "1        2022-07-03         Aalopuri   Fastfood          20        13  \\\n",
       "2        2022-08-23          Vadapav   Fastfood          20        15   \n",
       "3        2022-11-20          Vadapav   Fastfood          20         1   \n",
       "4        2023-02-03  Sugarcane juice  Beverages          25         6   \n",
       "5        2022-10-02  Sugarcane juice  Beverages          25         8   \n",
       "...             ...              ...        ...         ...       ...   \n",
       "996      2023-03-19          Frankie   Fastfood          50        10   \n",
       "997      2022-09-20         Sandwich   Fastfood          60         7   \n",
       "998      2023-01-26         Sandwich   Fastfood          60        13   \n",
       "999      2022-08-27         Panipuri   Fastfood          20         5   \n",
       "1000     2022-05-29         Aalopuri   Fastfood          20         3   \n",
       "\n",
       "          transaction_amount transaction_type received_by time_of_sale   \n",
       "order_id                                                                 \n",
       "1                        260          unknown         Mr.        Night  \\\n",
       "2                        300             Cash         Mr.    Afternoon   \n",
       "3                         20             Cash         Mr.    Afternoon   \n",
       "4                        150           Online         Mr.        Night   \n",
       "5                        200           Online         Mr.      Evening   \n",
       "...                      ...              ...         ...          ...   \n",
       "996                      500          unknown        Mrs.      Evening   \n",
       "997                      420          unknown         Mr.      Evening   \n",
       "998                      780          unknown         Mr.      Evening   \n",
       "999                      100          unknown        Mrs.    Afternoon   \n",
       "1000                      60           Online        Mrs.     Midnight   \n",
       "\n",
       "         yearmonth  \n",
       "order_id            \n",
       "1          2022-07  \n",
       "2          2022-08  \n",
       "3          2022-11  \n",
       "4          2023-02  \n",
       "5          2022-10  \n",
       "...            ...  \n",
       "996        2023-03  \n",
       "997        2022-09  \n",
       "998        2023-01  \n",
       "999        2022-08  \n",
       "1000       2022-05  \n",
       "\n",
       "[1000 rows x 10 columns]"
      ]
     },
     "execution_count": 47,
     "metadata": {},
     "output_type": "execute_result"
    }
   ],
   "source": [
    "\n",
    "Balaji['yearmonth'] = Balaji['date'].dt.to_period('M')\n",
    "Balaji"
   ]
  },
  {
   "cell_type": "code",
   "execution_count": 48,
   "metadata": {},
   "outputs": [
    {
     "data": {
      "text/plain": [
       "<Axes: title={'center': 'Sales Amount'}, xlabel='Period', ylabel='Total Transaction'>"
      ]
     },
     "execution_count": 48,
     "metadata": {},
     "output_type": "execute_result"
    },
    {
     "data": {
      "image/png": "[encoded data removed]",
      "text/plain": [
       "<Figure size 640x480 with 1 Axes>"
      ]
     },
     "metadata": {},
     "output_type": "display_data"
    }
   ],
   "source": [
    "Balaji_TS = pd.crosstab(index=Balaji['yearmonth'],\n",
    "            columns=Balaji['item_type'],\n",
    "            values=Balaji['transaction_amount'],\n",
    "            aggfunc='sum')\n",
    "\n",
    "Balaji_TS.plot(kind='line',\n",
    "               title='Sales Amount',\n",
    "               xlabel='Period',\n",
    "               ylabel='Total Transaction')"
   ]
  },
  {
   "cell_type": "code",
   "execution_count": 49,
   "metadata": {},
   "outputs": [
    {
     "data": {
      "text/plain": [
       "<Axes: title={'center': 'transaction_amount'}, xlabel='item_type'>"
      ]
     },
     "execution_count": 49,
     "metadata": {},
     "output_type": "execute_result"
    },
    {
     "data": {
      "image/png": "[encoded data removed]",
      "text/plain": [
       "<Figure size 640x480 with 1 Axes>"
      ]
     },
     "metadata": {},
     "output_type": "display_data"
    }
   ],
   "source": [
    "Balaji.boxplot(column='transaction_amount',\n",
    "                  by= 'item_type')"
   ]
  },
  {
   "cell_type": "code",
   "execution_count": 53,
   "metadata": {},
   "outputs": [
    {
     "data": {
      "text/html": [
       "<div>\n",
       "<style scoped>\n",
       "    .dataframe tbody tr th:only-of-type {\n",
       "        vertical-align: middle;\n",
       "    }\n",
       "\n",
       "    .dataframe tbody tr th {\n",
       "        vertical-align: top;\n",
       "    }\n",
       "\n",
       "    .dataframe thead th {\n",
       "        text-align: right;\n",
       "    }\n",
       "</style>\n",
       "<table border=\"1\" class=\"dataframe\">\n",
       "  <thead>\n",
       "    <tr style=\"text-align: right;\">\n",
       "      <th></th>\n",
       "      <th>date</th>\n",
       "      <th>item_name</th>\n",
       "      <th>item_type</th>\n",
       "      <th>item_price</th>\n",
       "      <th>quantity</th>\n",
       "      <th>transaction_amount</th>\n",
       "      <th>transaction_type</th>\n",
       "      <th>received_by</th>\n",
       "      <th>time_of_sale</th>\n",
       "      <th>yearmonth</th>\n",
       "    </tr>\n",
       "    <tr>\n",
       "      <th>order_id</th>\n",
       "      <th></th>\n",
       "      <th></th>\n",
       "      <th></th>\n",
       "      <th></th>\n",
       "      <th></th>\n",
       "      <th></th>\n",
       "      <th></th>\n",
       "      <th></th>\n",
       "      <th></th>\n",
       "      <th></th>\n",
       "    </tr>\n",
       "  </thead>\n",
       "  <tbody>\n",
       "    <tr>\n",
       "      <th>48</th>\n",
       "      <td>2023-02-23</td>\n",
       "      <td>Sandwich</td>\n",
       "      <td>Fastfood</td>\n",
       "      <td>60</td>\n",
       "      <td>14</td>\n",
       "      <td>840</td>\n",
       "      <td>Online</td>\n",
       "      <td>Mr.</td>\n",
       "      <td>Afternoon</td>\n",
       "      <td>2023-02</td>\n",
       "    </tr>\n",
       "    <tr>\n",
       "      <th>96</th>\n",
       "      <td>2022-08-22</td>\n",
       "      <td>Sandwich</td>\n",
       "      <td>Fastfood</td>\n",
       "      <td>60</td>\n",
       "      <td>15</td>\n",
       "      <td>900</td>\n",
       "      <td>unknown</td>\n",
       "      <td>Mr.</td>\n",
       "      <td>Morning</td>\n",
       "      <td>2022-08</td>\n",
       "    </tr>\n",
       "    <tr>\n",
       "      <th>138</th>\n",
       "      <td>2022-09-01</td>\n",
       "      <td>Sandwich</td>\n",
       "      <td>Fastfood</td>\n",
       "      <td>60</td>\n",
       "      <td>15</td>\n",
       "      <td>900</td>\n",
       "      <td>Online</td>\n",
       "      <td>Mr.</td>\n",
       "      <td>Night</td>\n",
       "      <td>2022-09</td>\n",
       "    </tr>\n",
       "    <tr>\n",
       "      <th>145</th>\n",
       "      <td>2022-10-09</td>\n",
       "      <td>Sandwich</td>\n",
       "      <td>Fastfood</td>\n",
       "      <td>60</td>\n",
       "      <td>14</td>\n",
       "      <td>840</td>\n",
       "      <td>Online</td>\n",
       "      <td>Mr.</td>\n",
       "      <td>Morning</td>\n",
       "      <td>2022-10</td>\n",
       "    </tr>\n",
       "    <tr>\n",
       "      <th>361</th>\n",
       "      <td>2022-06-30</td>\n",
       "      <td>Sandwich</td>\n",
       "      <td>Fastfood</td>\n",
       "      <td>60</td>\n",
       "      <td>15</td>\n",
       "      <td>900</td>\n",
       "      <td>unknown</td>\n",
       "      <td>Mrs.</td>\n",
       "      <td>Night</td>\n",
       "      <td>2022-06</td>\n",
       "    </tr>\n",
       "    <tr>\n",
       "      <th>388</th>\n",
       "      <td>2022-10-09</td>\n",
       "      <td>Sandwich</td>\n",
       "      <td>Fastfood</td>\n",
       "      <td>60</td>\n",
       "      <td>14</td>\n",
       "      <td>840</td>\n",
       "      <td>Cash</td>\n",
       "      <td>Mr.</td>\n",
       "      <td>Evening</td>\n",
       "      <td>2022-10</td>\n",
       "    </tr>\n",
       "    <tr>\n",
       "      <th>445</th>\n",
       "      <td>2022-10-22</td>\n",
       "      <td>Sandwich</td>\n",
       "      <td>Fastfood</td>\n",
       "      <td>60</td>\n",
       "      <td>14</td>\n",
       "      <td>840</td>\n",
       "      <td>Online</td>\n",
       "      <td>Mrs.</td>\n",
       "      <td>Morning</td>\n",
       "      <td>2022-10</td>\n",
       "    </tr>\n",
       "    <tr>\n",
       "      <th>477</th>\n",
       "      <td>2023-02-13</td>\n",
       "      <td>Sandwich</td>\n",
       "      <td>Fastfood</td>\n",
       "      <td>60</td>\n",
       "      <td>15</td>\n",
       "      <td>900</td>\n",
       "      <td>Cash</td>\n",
       "      <td>Mrs.</td>\n",
       "      <td>Midnight</td>\n",
       "      <td>2023-02</td>\n",
       "    </tr>\n",
       "    <tr>\n",
       "      <th>492</th>\n",
       "      <td>2022-07-11</td>\n",
       "      <td>Sandwich</td>\n",
       "      <td>Fastfood</td>\n",
       "      <td>60</td>\n",
       "      <td>15</td>\n",
       "      <td>900</td>\n",
       "      <td>Cash</td>\n",
       "      <td>Mr.</td>\n",
       "      <td>Afternoon</td>\n",
       "      <td>2022-07</td>\n",
       "    </tr>\n",
       "    <tr>\n",
       "      <th>510</th>\n",
       "      <td>2022-04-04</td>\n",
       "      <td>Sandwich</td>\n",
       "      <td>Fastfood</td>\n",
       "      <td>60</td>\n",
       "      <td>14</td>\n",
       "      <td>840</td>\n",
       "      <td>Online</td>\n",
       "      <td>Mr.</td>\n",
       "      <td>Afternoon</td>\n",
       "      <td>2022-04</td>\n",
       "    </tr>\n",
       "    <tr>\n",
       "      <th>544</th>\n",
       "      <td>2022-12-14</td>\n",
       "      <td>Sandwich</td>\n",
       "      <td>Fastfood</td>\n",
       "      <td>60</td>\n",
       "      <td>15</td>\n",
       "      <td>900</td>\n",
       "      <td>Online</td>\n",
       "      <td>Mrs.</td>\n",
       "      <td>Morning</td>\n",
       "      <td>2022-12</td>\n",
       "    </tr>\n",
       "    <tr>\n",
       "      <th>572</th>\n",
       "      <td>2022-04-02</td>\n",
       "      <td>Sandwich</td>\n",
       "      <td>Fastfood</td>\n",
       "      <td>60</td>\n",
       "      <td>15</td>\n",
       "      <td>900</td>\n",
       "      <td>Cash</td>\n",
       "      <td>Mr.</td>\n",
       "      <td>Afternoon</td>\n",
       "      <td>2022-04</td>\n",
       "    </tr>\n",
       "    <tr>\n",
       "      <th>586</th>\n",
       "      <td>2022-05-22</td>\n",
       "      <td>Sandwich</td>\n",
       "      <td>Fastfood</td>\n",
       "      <td>60</td>\n",
       "      <td>15</td>\n",
       "      <td>900</td>\n",
       "      <td>Online</td>\n",
       "      <td>Mr.</td>\n",
       "      <td>Night</td>\n",
       "      <td>2022-05</td>\n",
       "    </tr>\n",
       "    <tr>\n",
       "      <th>615</th>\n",
       "      <td>2022-08-14</td>\n",
       "      <td>Sandwich</td>\n",
       "      <td>Fastfood</td>\n",
       "      <td>60</td>\n",
       "      <td>14</td>\n",
       "      <td>840</td>\n",
       "      <td>unknown</td>\n",
       "      <td>Mr.</td>\n",
       "      <td>Morning</td>\n",
       "      <td>2022-08</td>\n",
       "    </tr>\n",
       "    <tr>\n",
       "      <th>625</th>\n",
       "      <td>2022-06-17</td>\n",
       "      <td>Sandwich</td>\n",
       "      <td>Fastfood</td>\n",
       "      <td>60</td>\n",
       "      <td>15</td>\n",
       "      <td>900</td>\n",
       "      <td>Online</td>\n",
       "      <td>Mr.</td>\n",
       "      <td>Morning</td>\n",
       "      <td>2022-06</td>\n",
       "    </tr>\n",
       "    <tr>\n",
       "      <th>640</th>\n",
       "      <td>2023-01-04</td>\n",
       "      <td>Sandwich</td>\n",
       "      <td>Fastfood</td>\n",
       "      <td>60</td>\n",
       "      <td>15</td>\n",
       "      <td>900</td>\n",
       "      <td>Online</td>\n",
       "      <td>Mr.</td>\n",
       "      <td>Night</td>\n",
       "      <td>2023-01</td>\n",
       "    </tr>\n",
       "    <tr>\n",
       "      <th>710</th>\n",
       "      <td>2023-03-15</td>\n",
       "      <td>Sandwich</td>\n",
       "      <td>Fastfood</td>\n",
       "      <td>60</td>\n",
       "      <td>15</td>\n",
       "      <td>900</td>\n",
       "      <td>unknown</td>\n",
       "      <td>Mr.</td>\n",
       "      <td>Night</td>\n",
       "      <td>2023-03</td>\n",
       "    </tr>\n",
       "    <tr>\n",
       "      <th>748</th>\n",
       "      <td>2022-09-20</td>\n",
       "      <td>Sandwich</td>\n",
       "      <td>Fastfood</td>\n",
       "      <td>60</td>\n",
       "      <td>14</td>\n",
       "      <td>840</td>\n",
       "      <td>Cash</td>\n",
       "      <td>Mrs.</td>\n",
       "      <td>Night</td>\n",
       "      <td>2022-09</td>\n",
       "    </tr>\n",
       "    <tr>\n",
       "      <th>768</th>\n",
       "      <td>2023-01-12</td>\n",
       "      <td>Sandwich</td>\n",
       "      <td>Fastfood</td>\n",
       "      <td>60</td>\n",
       "      <td>14</td>\n",
       "      <td>840</td>\n",
       "      <td>Cash</td>\n",
       "      <td>Mr.</td>\n",
       "      <td>Afternoon</td>\n",
       "      <td>2023-01</td>\n",
       "    </tr>\n",
       "    <tr>\n",
       "      <th>786</th>\n",
       "      <td>2023-03-13</td>\n",
       "      <td>Sandwich</td>\n",
       "      <td>Fastfood</td>\n",
       "      <td>60</td>\n",
       "      <td>14</td>\n",
       "      <td>840</td>\n",
       "      <td>Online</td>\n",
       "      <td>Mrs.</td>\n",
       "      <td>Night</td>\n",
       "      <td>2023-03</td>\n",
       "    </tr>\n",
       "    <tr>\n",
       "      <th>826</th>\n",
       "      <td>2022-12-02</td>\n",
       "      <td>Sandwich</td>\n",
       "      <td>Fastfood</td>\n",
       "      <td>60</td>\n",
       "      <td>15</td>\n",
       "      <td>900</td>\n",
       "      <td>Cash</td>\n",
       "      <td>Mrs.</td>\n",
       "      <td>Night</td>\n",
       "      <td>2022-12</td>\n",
       "    </tr>\n",
       "    <tr>\n",
       "      <th>894</th>\n",
       "      <td>2023-03-19</td>\n",
       "      <td>Sandwich</td>\n",
       "      <td>Fastfood</td>\n",
       "      <td>60</td>\n",
       "      <td>15</td>\n",
       "      <td>900</td>\n",
       "      <td>Cash</td>\n",
       "      <td>Mr.</td>\n",
       "      <td>Morning</td>\n",
       "      <td>2023-03</td>\n",
       "    </tr>\n",
       "    <tr>\n",
       "      <th>906</th>\n",
       "      <td>2022-04-04</td>\n",
       "      <td>Sandwich</td>\n",
       "      <td>Fastfood</td>\n",
       "      <td>60</td>\n",
       "      <td>15</td>\n",
       "      <td>900</td>\n",
       "      <td>Cash</td>\n",
       "      <td>Mr.</td>\n",
       "      <td>Afternoon</td>\n",
       "      <td>2022-04</td>\n",
       "    </tr>\n",
       "    <tr>\n",
       "      <th>914</th>\n",
       "      <td>2023-03-01</td>\n",
       "      <td>Sandwich</td>\n",
       "      <td>Fastfood</td>\n",
       "      <td>60</td>\n",
       "      <td>14</td>\n",
       "      <td>840</td>\n",
       "      <td>Cash</td>\n",
       "      <td>Mr.</td>\n",
       "      <td>Night</td>\n",
       "      <td>2023-03</td>\n",
       "    </tr>\n",
       "  </tbody>\n",
       "</table>\n",
       "</div>"
      ],
      "text/plain": [
       "               date item_name item_type  item_price  quantity   \n",
       "order_id                                                        \n",
       "48       2023-02-23  Sandwich  Fastfood          60        14  \\\n",
       "96       2022-08-22  Sandwich  Fastfood          60        15   \n",
       "138      2022-09-01  Sandwich  Fastfood          60        15   \n",
       "145      2022-10-09  Sandwich  Fastfood          60        14   \n",
       "361      2022-06-30  Sandwich  Fastfood          60        15   \n",
       "388      2022-10-09  Sandwich  Fastfood          60        14   \n",
       "445      2022-10-22  Sandwich  Fastfood          60        14   \n",
       "477      2023-02-13  Sandwich  Fastfood          60        15   \n",
       "492      2022-07-11  Sandwich  Fastfood          60        15   \n",
       "510      2022-04-04  Sandwich  Fastfood          60        14   \n",
       "544      2022-12-14  Sandwich  Fastfood          60        15   \n",
       "572      2022-04-02  Sandwich  Fastfood          60        15   \n",
       "586      2022-05-22  Sandwich  Fastfood          60        15   \n",
       "615      2022-08-14  Sandwich  Fastfood          60        14   \n",
       "625      2022-06-17  Sandwich  Fastfood          60        15   \n",
       "640      2023-01-04  Sandwich  Fastfood          60        15   \n",
       "710      2023-03-15  Sandwich  Fastfood          60        15   \n",
       "748      2022-09-20  Sandwich  Fastfood          60        14   \n",
       "768      2023-01-12  Sandwich  Fastfood          60        14   \n",
       "786      2023-03-13  Sandwich  Fastfood          60        14   \n",
       "826      2022-12-02  Sandwich  Fastfood          60        15   \n",
       "894      2023-03-19  Sandwich  Fastfood          60        15   \n",
       "906      2022-04-04  Sandwich  Fastfood          60        15   \n",
       "914      2023-03-01  Sandwich  Fastfood          60        14   \n",
       "\n",
       "          transaction_amount transaction_type received_by time_of_sale   \n",
       "order_id                                                                 \n",
       "48                       840           Online         Mr.    Afternoon  \\\n",
       "96                       900          unknown         Mr.      Morning   \n",
       "138                      900           Online         Mr.        Night   \n",
       "145                      840           Online         Mr.      Morning   \n",
       "361                      900          unknown        Mrs.        Night   \n",
       "388                      840             Cash         Mr.      Evening   \n",
       "445                      840           Online        Mrs.      Morning   \n",
       "477                      900             Cash        Mrs.     Midnight   \n",
       "492                      900             Cash         Mr.    Afternoon   \n",
       "510                      840           Online         Mr.    Afternoon   \n",
       "544                      900           Online        Mrs.      Morning   \n",
       "572                      900             Cash         Mr.    Afternoon   \n",
       "586                      900           Online         Mr.        Night   \n",
       "615                      840          unknown         Mr.      Morning   \n",
       "625                      900           Online         Mr.      Morning   \n",
       "640                      900           Online         Mr.        Night   \n",
       "710                      900          unknown         Mr.        Night   \n",
       "748                      840             Cash        Mrs.        Night   \n",
       "768                      840             Cash         Mr.    Afternoon   \n",
       "786                      840           Online        Mrs.        Night   \n",
       "826                      900             Cash        Mrs.        Night   \n",
       "894                      900             Cash         Mr.      Morning   \n",
       "906                      900             Cash         Mr.    Afternoon   \n",
       "914                      840             Cash         Mr.        Night   \n",
       "\n",
       "         yearmonth  \n",
       "order_id            \n",
       "48         2023-02  \n",
       "96         2022-08  \n",
       "138        2022-09  \n",
       "145        2022-10  \n",
       "361        2022-06  \n",
       "388        2022-10  \n",
       "445        2022-10  \n",
       "477        2023-02  \n",
       "492        2022-07  \n",
       "510        2022-04  \n",
       "544        2022-12  \n",
       "572        2022-04  \n",
       "586        2022-05  \n",
       "615        2022-08  \n",
       "625        2022-06  \n",
       "640        2023-01  \n",
       "710        2023-03  \n",
       "748        2022-09  \n",
       "768        2023-01  \n",
       "786        2023-03  \n",
       "826        2022-12  \n",
       "894        2023-03  \n",
       "906        2022-04  \n",
       "914        2023-03  "
      ]
     },
     "execution_count": 53,
     "metadata": {},
     "output_type": "execute_result"
    }
   ],
   "source": [
    "# Data outlier berdasarkan transaction_amount\n",
    "Balaji[Balaji['transaction_amount'] > 800 ]"
   ]
  },
  {
   "cell_type": "code",
   "execution_count": 19,
   "metadata": {},
   "outputs": [
    {
     "data": {
      "text/html": [
       "<div>\n",
       "<style scoped>\n",
       "    .dataframe tbody tr th:only-of-type {\n",
       "        vertical-align: middle;\n",
       "    }\n",
       "\n",
       "    .dataframe tbody tr th {\n",
       "        vertical-align: top;\n",
       "    }\n",
       "\n",
       "    .dataframe thead th {\n",
       "        text-align: right;\n",
       "    }\n",
       "</style>\n",
       "<table border=\"1\" class=\"dataframe\">\n",
       "  <thead>\n",
       "    <tr style=\"text-align: right;\">\n",
       "      <th></th>\n",
       "      <th>transaction_amount</th>\n",
       "    </tr>\n",
       "    <tr>\n",
       "      <th>time_of_sale</th>\n",
       "      <th></th>\n",
       "    </tr>\n",
       "  </thead>\n",
       "  <tbody>\n",
       "    <tr>\n",
       "      <th>Night</th>\n",
       "      <td>62075</td>\n",
       "    </tr>\n",
       "    <tr>\n",
       "      <th>Afternoon</th>\n",
       "      <td>56345</td>\n",
       "    </tr>\n",
       "    <tr>\n",
       "      <th>Morning</th>\n",
       "      <td>53730</td>\n",
       "    </tr>\n",
       "    <tr>\n",
       "      <th>Evening</th>\n",
       "      <td>52355</td>\n",
       "    </tr>\n",
       "    <tr>\n",
       "      <th>Midnight</th>\n",
       "      <td>50725</td>\n",
       "    </tr>\n",
       "  </tbody>\n",
       "</table>\n",
       "</div>"
      ],
      "text/plain": [
       "              transaction_amount\n",
       "time_of_sale                    \n",
       "Night                      62075\n",
       "Afternoon                  56345\n",
       "Morning                    53730\n",
       "Evening                    52355\n",
       "Midnight                   50725"
      ]
     },
     "execution_count": 19,
     "metadata": {},
     "output_type": "execute_result"
    }
   ],
   "source": [
    "Balaji_tm = Balaji.pivot_table(index='time_of_sale',\n",
    "                   values='transaction_amount',\n",
    "                   aggfunc='sum').sort_values('transaction_amount', ascending=False)\n",
    "Balaji_tm"
   ]
  },
  {
   "cell_type": "code",
   "execution_count": 20,
   "metadata": {},
   "outputs": [
    {
     "data": {
      "text/plain": [
       "<Axes: title={'center': 'Transaction Amont'}, xlabel='time_of_sale', ylabel='transaction_amount'>"
      ]
     },
     "execution_count": 20,
     "metadata": {},
     "output_type": "execute_result"
    },
    {
     "data": {
      "image/png": "[encoded data removed]",
      "text/plain": [
       "<Figure size 640x480 with 1 Axes>"
      ]
     },
     "metadata": {},
     "output_type": "display_data"
    }
   ],
   "source": [
    "Balaji_tm.plot(\n",
    "    kind='bar',\n",
    "    title='Transaction Amont',\n",
    "    xlabel='time_of_sale',\n",
    "    ylabel='transaction_amount',\n",
    "    color='red'\n",
    ")"
   ]
  },
  {
   "cell_type": "markdown",
   "metadata": {},
   "source": [
    "*Assignment from Kaggel*\n",
    "\n",
    "(1) Analyzing sales trends over time.\n",
    "(2) Understanding customer preferences for different items.\n",
    "(3) Evaluating the impact of payment methods on revenue.\n",
    "(4) Investigating the performance of staff members based on gender.\n",
    "(5) Exploring the popularity of items at different times of the day\n"
   ]
  },
  {
   "cell_type": "code",
   "execution_count": 21,
   "metadata": {},
   "outputs": [
    {
     "data": {
      "text/plain": [
       "<Axes: ylabel='yearmonth'>"
      ]
     },
     "execution_count": 21,
     "metadata": {},
     "output_type": "execute_result"
    },
    {
     "data": {
      "image/png": "[encoded data removed]",
      "text/plain": [
       "<Figure size 640x480 with 1 Axes>"
      ]
     },
     "metadata": {},
     "output_type": "display_data"
    }
   ],
   "source": [
    " # (1) Analyzing sales trends over time.\n",
    "\n",
    "Sales_overtime = pd.crosstab(index=Balaji['yearmonth'],\n",
    "            columns=Balaji['time_of_sale'],\n",
    "            values=Balaji['transaction_amount'],\n",
    "            aggfunc='sum').sort_values('Midnight', ascending=False) ['Midnight']\n",
    "\n",
    "Sales_overtime.plot(kind='barh')\n",
    "\n"
   ]
  },
  {
   "cell_type": "markdown",
   "metadata": {},
   "source": [
    "*Insight*\n",
    "- The highest sales occur during the overtime period in January 2023"
   ]
  },
  {
   "cell_type": "code",
   "execution_count": 22,
   "metadata": {},
   "outputs": [
    {
     "data": {
      "text/plain": [
       "<Axes: title={'center': 'Quantity Sales'}, xlabel='Item_name', ylabel='Quantity'>"
      ]
     },
     "execution_count": 22,
     "metadata": {},
     "output_type": "execute_result"
    },
    {
     "data": {
      "image/png": "[encoded data removed]",
      "text/plain": [
       "<Figure size 640x480 with 1 Axes>"
      ]
     },
     "metadata": {},
     "output_type": "display_data"
    }
   ],
   "source": [
    "# (2) Understanding customer preferences for different items.\n",
    "\n",
    "P_name = pd.crosstab(index=Balaji['item_name'],\n",
    "            columns= 'Jumlah',\n",
    "            values=Balaji['quantity'],\n",
    "            aggfunc='count')\n",
    "P_name.plot(\n",
    "    kind='bar',\n",
    "    title= 'Quantity Sales',\n",
    "    xlabel= 'Item_name',\n",
    "    ylabel = 'Quantity',\n",
    "    color= 'green')"
   ]
  },
  {
   "cell_type": "markdown",
   "metadata": {},
   "source": [
    "*Insight*\n",
    "- the best-selling products being cold coffee and sugarance juice"
   ]
  },
  {
   "cell_type": "code",
   "execution_count": 23,
   "metadata": {},
   "outputs": [
    {
     "data": {
      "text/plain": [
       "<Axes: ylabel='transaction_type'>"
      ]
     },
     "execution_count": 23,
     "metadata": {},
     "output_type": "execute_result"
    },
    {
     "data": {
      "image/png": "[encoded data removed]",
      "text/plain": [
       "<Figure size 640x480 with 1 Axes>"
      ]
     },
     "metadata": {},
     "output_type": "display_data"
    }
   ],
   "source": [
    "# (3) Evaluating the impact of payment methods on revenue.\n",
    "\n",
    "Balaji_tp = Balaji.pivot_table(index='transaction_type',\n",
    "                   values='transaction_amount',\n",
    "                   aggfunc='sum').sort_values('transaction_amount', ascending=False)\n",
    "Balaji_tp.plot(kind='barh')\n"
   ]
  },
  {
   "cell_type": "markdown",
   "metadata": {},
   "source": [
    "*Insight*\n",
    "- The cash payment method indicates the highest transaction volume"
   ]
  },
  {
   "cell_type": "code",
   "execution_count": 24,
   "metadata": {},
   "outputs": [
    {
     "data": {
      "text/plain": [
       "received_by\n",
       "Mr.     512\n",
       "Mrs.    488\n",
       "Name: count, dtype: int64"
      ]
     },
     "execution_count": 24,
     "metadata": {},
     "output_type": "execute_result"
    }
   ],
   "source": [
    "# (4) Investigating the performance of staff members based on gender.\n",
    "Balaji_performence = Balaji['received_by'].value_counts()\n",
    "Balaji_performence"
   ]
  },
  {
   "cell_type": "code",
   "execution_count": 25,
   "metadata": {},
   "outputs": [
    {
     "data": {
      "text/plain": [
       "([<matplotlib.patches.Wedge at 0x22ed955ded0>,\n",
       "  <matplotlib.patches.Wedge at 0x22ed955de10>],\n",
       " [Text(-0.08119628122357139, 1.096999163133438, 'Mr'),\n",
       "  Text(0.0811962812235715, -1.096999163133438, 'Mrs')],\n",
       " [Text(-0.04428888066740257, 0.598363179890966, '52%'),\n",
       "  Text(0.04428888066740263, -0.598363179890966, '48%')])"
      ]
     },
     "execution_count": 25,
     "metadata": {},
     "output_type": "execute_result"
    },
    {
     "data": {
      "image/png": "[encoded data removed]",
      "text/plain": [
       "<Figure size 600x600 with 1 Axes>"
      ]
     },
     "metadata": {},
     "output_type": "display_data"
    }
   ],
   "source": [
    "reveivedBy = ['Mr','Mrs']\n",
    "staff_counts = [512, 466]\n",
    "fig = plt.figure(figsize=(6,6))\n",
    "ax = plt.axes()\n",
    "ax.pie(staff_counts, labels = reveivedBy, autopct='%1.0f%%')"
   ]
  },
  {
   "cell_type": "markdown",
   "metadata": {},
   "source": [
    "*Insight*\n",
    "- The performance of male staff is slightly superior to that of female staff, but not significantly."
   ]
  },
  {
   "cell_type": "code",
   "execution_count": 26,
   "metadata": {},
   "outputs": [
    {
     "data": {
      "text/html": [
       "<div>\n",
       "<style scoped>\n",
       "    .dataframe tbody tr th:only-of-type {\n",
       "        vertical-align: middle;\n",
       "    }\n",
       "\n",
       "    .dataframe tbody tr th {\n",
       "        vertical-align: top;\n",
       "    }\n",
       "\n",
       "    .dataframe thead th {\n",
       "        text-align: right;\n",
       "    }\n",
       "</style>\n",
       "<table border=\"1\" class=\"dataframe\">\n",
       "  <thead>\n",
       "    <tr style=\"text-align: right;\">\n",
       "      <th>time_of_sale</th>\n",
       "      <th>Afternoon</th>\n",
       "      <th>Evening</th>\n",
       "      <th>Midnight</th>\n",
       "      <th>Morning</th>\n",
       "      <th>Night</th>\n",
       "    </tr>\n",
       "    <tr>\n",
       "      <th>item_name</th>\n",
       "      <th></th>\n",
       "      <th></th>\n",
       "      <th></th>\n",
       "      <th></th>\n",
       "      <th></th>\n",
       "    </tr>\n",
       "  </thead>\n",
       "  <tbody>\n",
       "    <tr>\n",
       "      <th>Aalopuri</th>\n",
       "      <td>226</td>\n",
       "      <td>136</td>\n",
       "      <td>223</td>\n",
       "      <td>215</td>\n",
       "      <td>244</td>\n",
       "    </tr>\n",
       "    <tr>\n",
       "      <th>Cold coffee</th>\n",
       "      <td>337</td>\n",
       "      <td>235</td>\n",
       "      <td>203</td>\n",
       "      <td>287</td>\n",
       "      <td>299</td>\n",
       "    </tr>\n",
       "    <tr>\n",
       "      <th>Frankie</th>\n",
       "      <td>238</td>\n",
       "      <td>240</td>\n",
       "      <td>198</td>\n",
       "      <td>204</td>\n",
       "      <td>270</td>\n",
       "    </tr>\n",
       "    <tr>\n",
       "      <th>Panipuri</th>\n",
       "      <td>230</td>\n",
       "      <td>241</td>\n",
       "      <td>278</td>\n",
       "      <td>233</td>\n",
       "      <td>244</td>\n",
       "    </tr>\n",
       "    <tr>\n",
       "      <th>Sandwich</th>\n",
       "      <td>164</td>\n",
       "      <td>206</td>\n",
       "      <td>201</td>\n",
       "      <td>234</td>\n",
       "      <td>292</td>\n",
       "    </tr>\n",
       "    <tr>\n",
       "      <th>Sugarcane juice</th>\n",
       "      <td>325</td>\n",
       "      <td>283</td>\n",
       "      <td>237</td>\n",
       "      <td>206</td>\n",
       "      <td>227</td>\n",
       "    </tr>\n",
       "    <tr>\n",
       "      <th>Vadapav</th>\n",
       "      <td>194</td>\n",
       "      <td>199</td>\n",
       "      <td>235</td>\n",
       "      <td>195</td>\n",
       "      <td>183</td>\n",
       "    </tr>\n",
       "  </tbody>\n",
       "</table>\n",
       "</div>"
      ],
      "text/plain": [
       "time_of_sale     Afternoon  Evening  Midnight  Morning  Night\n",
       "item_name                                                    \n",
       "Aalopuri               226      136       223      215    244\n",
       "Cold coffee            337      235       203      287    299\n",
       "Frankie                238      240       198      204    270\n",
       "Panipuri               230      241       278      233    244\n",
       "Sandwich               164      206       201      234    292\n",
       "Sugarcane juice        325      283       237      206    227\n",
       "Vadapav                194      199       235      195    183"
      ]
     },
     "execution_count": 26,
     "metadata": {},
     "output_type": "execute_result"
    }
   ],
   "source": [
    "# (5) Exploring the popularity of items at different times of the day\n",
    "Balaji_fav = Balaji.pivot_table(index='item_name',\n",
    "                                columns='time_of_sale',\n",
    "                                values='quantity',\n",
    "                                aggfunc='sum')\n",
    "Balaji_fav\n"
   ]
  },
  {
   "cell_type": "code",
   "execution_count": 104,
   "metadata": {},
   "outputs": [
    {
     "data": {
      "text/plain": [
       "<Axes: xlabel='item_name'>"
      ]
     },
     "execution_count": 104,
     "metadata": {},
     "output_type": "execute_result"
    },
    {
     "data": {
      "image/png": "[encoded data removed]",
      "text/plain": [
       "<Figure size 640x480 with 1 Axes>"
      ]
     },
     "metadata": {},
     "output_type": "display_data"
    }
   ],
   "source": [
    "Balaji_fav.plot(kind='bar')"
   ]
  },
  {
   "cell_type": "markdown",
   "metadata": {},
   "source": [
    "*Insight*\n",
    "- The highest total sales of products occur during the afternoon and night.\n",
    "- \"The highest sales volume occurs in the afternoon, with the best-selling products being cold coffee and sugarance juice.\n",
    "- \"In the evening, the best-selling products are cold coffee and sandwich."
   ]
  }
 ],
 "metadata": {
  "kernelspec": {
   "display_name": "xion_da",
   "language": "python",
   "name": "python3"
  },
  "language_info": {
   "codemirror_mode": {
    "name": "ipython",
    "version": 3
   },
   "file_extension": ".py",
   "mimetype": "text/x-python",
   "name": "python",
   "nbconvert_exporter": "python",
   "pygments_lexer": "ipython3",
   "version": "3.10.13"
  }
 },
 "nbformat": 4,
 "nbformat_minor": 2
}
